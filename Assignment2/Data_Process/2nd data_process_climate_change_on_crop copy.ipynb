{
 "cells": [
  {
   "cell_type": "markdown",
   "metadata": {},
   "source": [
    "# Data Cleaning\n",
    "## Assignment \n",
    "### Process Data Climate Change on Crop\n",
    "### Step 1: Import Libraries Start by importing the necessary libraries:"
   ]
  },
  {
   "cell_type": "code",
   "execution_count": 2,
   "metadata": {},
   "outputs": [],
   "source": [
    "import pandas as pd\n",
    "import matplotlib.pyplot as plt\n",
    "import seaborn as sns\n",
    "from sklearn.model_selection import train_test_split\n",
    "from sklearn.preprocessing import StandardScaler\n",
    "from sklearn.linear_model import LinearRegression\n",
    "from sklearn.metrics import mean_squared_error"
   ]
  },
  {
   "cell_type": "markdown",
   "metadata": {},
   "source": [
    "### Step 2: Load the Dataset Load the dataset into a pandas DataFrame:"
   ]
  },
  {
   "cell_type": "code",
   "execution_count": 3,
   "metadata": {},
   "outputs": [
    {
     "data": {
      "text/html": [
       "<div>\n",
       "<style scoped>\n",
       "    .dataframe tbody tr th:only-of-type {\n",
       "        vertical-align: middle;\n",
       "    }\n",
       "\n",
       "    .dataframe tbody tr th {\n",
       "        vertical-align: top;\n",
       "    }\n",
       "\n",
       "    .dataframe thead th {\n",
       "        text-align: right;\n",
       "    }\n",
       "</style>\n",
       "<table border=\"1\" class=\"dataframe\">\n",
       "  <thead>\n",
       "    <tr style=\"text-align: right;\">\n",
       "      <th></th>\n",
       "      <th>Temperature</th>\n",
       "      <th>Precipitation</th>\n",
       "      <th>CO2 Levels</th>\n",
       "      <th>Crop Yield</th>\n",
       "      <th>Soil Health</th>\n",
       "      <th>Extreme Weather Events</th>\n",
       "      <th>Crop Disease Incidence</th>\n",
       "      <th>Water Availability</th>\n",
       "      <th>Food Security</th>\n",
       "      <th>Economic Impact</th>\n",
       "    </tr>\n",
       "  </thead>\n",
       "  <tbody>\n",
       "    <tr>\n",
       "      <th>0</th>\n",
       "      <td>7</td>\n",
       "      <td>59</td>\n",
       "      <td>329</td>\n",
       "      <td>483</td>\n",
       "      <td>10</td>\n",
       "      <td>Drought</td>\n",
       "      <td>Low</td>\n",
       "      <td>High</td>\n",
       "      <td>Low</td>\n",
       "      <td>High</td>\n",
       "    </tr>\n",
       "    <tr>\n",
       "      <th>1</th>\n",
       "      <td>39</td>\n",
       "      <td>20</td>\n",
       "      <td>426</td>\n",
       "      <td>679</td>\n",
       "      <td>8</td>\n",
       "      <td>Heatwave</td>\n",
       "      <td>High</td>\n",
       "      <td>Low</td>\n",
       "      <td>High</td>\n",
       "      <td>Low</td>\n",
       "    </tr>\n",
       "    <tr>\n",
       "      <th>2</th>\n",
       "      <td>18</td>\n",
       "      <td>46</td>\n",
       "      <td>403</td>\n",
       "      <td>587</td>\n",
       "      <td>5</td>\n",
       "      <td>Flood</td>\n",
       "      <td>Low</td>\n",
       "      <td>Medium</td>\n",
       "      <td>Low</td>\n",
       "      <td>Medium</td>\n",
       "    </tr>\n",
       "    <tr>\n",
       "      <th>3</th>\n",
       "      <td>9</td>\n",
       "      <td>91</td>\n",
       "      <td>356</td>\n",
       "      <td>220</td>\n",
       "      <td>5</td>\n",
       "      <td>Heatwave</td>\n",
       "      <td>Medium</td>\n",
       "      <td>Medium</td>\n",
       "      <td>High</td>\n",
       "      <td>Medium</td>\n",
       "    </tr>\n",
       "    <tr>\n",
       "      <th>4</th>\n",
       "      <td>35</td>\n",
       "      <td>12</td>\n",
       "      <td>325</td>\n",
       "      <td>538</td>\n",
       "      <td>1</td>\n",
       "      <td>Storm</td>\n",
       "      <td>Medium</td>\n",
       "      <td>Medium</td>\n",
       "      <td>High</td>\n",
       "      <td>High</td>\n",
       "    </tr>\n",
       "  </tbody>\n",
       "</table>\n",
       "</div>"
      ],
      "text/plain": [
       "   Temperature  Precipitation  CO2 Levels  Crop Yield  Soil Health  \\\n",
       "0            7             59         329         483           10   \n",
       "1           39             20         426         679            8   \n",
       "2           18             46         403         587            5   \n",
       "3            9             91         356         220            5   \n",
       "4           35             12         325         538            1   \n",
       "\n",
       "  Extreme Weather Events Crop Disease Incidence Water Availability  \\\n",
       "0                Drought                    Low               High   \n",
       "1               Heatwave                   High                Low   \n",
       "2                  Flood                    Low             Medium   \n",
       "3               Heatwave                 Medium             Medium   \n",
       "4                  Storm                 Medium             Medium   \n",
       "\n",
       "  Food Security Economic Impact  \n",
       "0           Low            High  \n",
       "1          High             Low  \n",
       "2           Low          Medium  \n",
       "3          High          Medium  \n",
       "4          High            High  "
      ]
     },
     "execution_count": 3,
     "metadata": {},
     "output_type": "execute_result"
    }
   ],
   "source": [
    "# Load the dataset\n",
    "df = pd.read_csv('climate_change_agriculture_dataset.csv')  # Make sure the file path is correct\n",
    "# Display the first few rows\n",
    "df.head()"
   ]
  },
  {
   "cell_type": "markdown",
   "metadata": {},
   "source": [
    "### Step 3: Explore the Dataset Understand the structure of the data:"
   ]
  },
  {
   "cell_type": "code",
   "execution_count": 4,
   "metadata": {},
   "outputs": [
    {
     "name": "stdout",
     "output_type": "stream",
     "text": [
      "<class 'pandas.core.frame.DataFrame'>\n",
      "RangeIndex: 1000 entries, 0 to 999\n",
      "Data columns (total 10 columns):\n",
      " #   Column                  Non-Null Count  Dtype \n",
      "---  ------                  --------------  ----- \n",
      " 0   Temperature             1000 non-null   int64 \n",
      " 1   Precipitation           1000 non-null   int64 \n",
      " 2   CO2 Levels              1000 non-null   int64 \n",
      " 3   Crop Yield              1000 non-null   int64 \n",
      " 4   Soil Health             1000 non-null   int64 \n",
      " 5   Extreme Weather Events  1000 non-null   object\n",
      " 6   Crop Disease Incidence  1000 non-null   object\n",
      " 7   Water Availability      1000 non-null   object\n",
      " 8   Food Security           1000 non-null   object\n",
      " 9   Economic Impact         1000 non-null   object\n",
      "dtypes: int64(5), object(5)\n",
      "memory usage: 78.3+ KB\n"
     ]
    },
    {
     "data": {
      "text/plain": [
       "Temperature               0\n",
       "Precipitation             0\n",
       "CO2 Levels                0\n",
       "Crop Yield                0\n",
       "Soil Health               0\n",
       "Extreme Weather Events    0\n",
       "Crop Disease Incidence    0\n",
       "Water Availability        0\n",
       "Food Security             0\n",
       "Economic Impact           0\n",
       "dtype: int64"
      ]
     },
     "execution_count": 4,
     "metadata": {},
     "output_type": "execute_result"
    }
   ],
   "source": [
    "# Get a summary of the dataset\n",
    "df.info()\n",
    "\n",
    "# Get a statistical summary of the numerical columns\n",
    "df.describe()\n",
    "\n",
    "# Check for missing values\n",
    "df.isnull().sum()"
   ]
  },
  {
   "cell_type": "code",
   "execution_count": 6,
   "metadata": {},
   "outputs": [
    {
     "name": "stdout",
     "output_type": "stream",
     "text": [
      "Temperature               0\n",
      "Precipitation             0\n",
      "CO2 Levels                0\n",
      "Crop Yield                0\n",
      "Soil Health               0\n",
      "Extreme Weather Events    0\n",
      "Crop Disease Incidence    0\n",
      "Water Availability        0\n",
      "Food Security             0\n",
      "Economic Impact           0\n",
      "dtype: int64\n"
     ]
    },
    {
     "name": "stderr",
     "output_type": "stream",
     "text": [
      "/var/folders/gv/rtnszm0j6zv_rcttl_93t75r0000gn/T/ipykernel_9227/1186933600.py:10: FutureWarning: A value is trying to be set on a copy of a DataFrame or Series through chained assignment using an inplace method.\n",
      "The behavior will change in pandas 3.0. This inplace method will never work because the intermediate object on which we are setting values always behaves as a copy.\n",
      "\n",
      "For example, when doing 'df[col].method(value, inplace=True)', try using 'df.method({col: value}, inplace=True)' or df[col] = df[col].method(value) instead, to perform the operation inplace on the original object.\n",
      "\n",
      "\n",
      "  df[col].fillna(df[col].mode()[0], inplace=True)\n"
     ]
    }
   ],
   "source": [
    "# Check for missing values\n",
    "print(df.isnull().sum())\n",
    "\n",
    "# Fill missing values for numerical columns with the mean\n",
    "numeric_cols = df.select_dtypes(include=['number']).columns\n",
    "df[numeric_cols] = df[numeric_cols].fillna(df[numeric_cols].mean())\n",
    "\n",
    "# For categorical columns, fill missing values with the mode\n",
    "for col in df.select_dtypes(include=['object']).columns:\n",
    "    df[col].fillna(df[col].mode()[0], inplace=True)"
   ]
  },
  {
   "cell_type": "code",
   "execution_count": 8,
   "metadata": {},
   "outputs": [
    {
     "name": "stdout",
     "output_type": "stream",
     "text": [
      "   Temperature  Precipitation  CO2 Levels  Crop Yield  Soil Health  \\\n",
      "0    -1.215649       0.372264   -1.277600         483           10   \n",
      "1     0.930126      -0.936280    0.420428         679            8   \n",
      "2    -0.478038      -0.063917    0.017803         587            5   \n",
      "3    -1.081538       1.445941   -0.804953         220            5   \n",
      "4     0.661905      -1.204699   -1.347622         538            1   \n",
      "\n",
      "  Extreme Weather Events Crop Disease Incidence Water Availability  \\\n",
      "0                Drought                    Low               High   \n",
      "1               Heatwave                   High                Low   \n",
      "2                  Flood                    Low             Medium   \n",
      "3               Heatwave                 Medium             Medium   \n",
      "4                  Storm                 Medium             Medium   \n",
      "\n",
      "  Food Security Economic Impact  \n",
      "0           Low            High  \n",
      "1          High             Low  \n",
      "2           Low          Medium  \n",
      "3          High          Medium  \n",
      "4          High            High  \n"
     ]
    }
   ],
   "source": [
    "from sklearn.preprocessing import StandardScaler\n",
    "\n",
    "# Initialize the scaler\n",
    "scaler = StandardScaler()\n",
    "\n",
    "# Select numerical columns for scaling\n",
    "numerical_columns = ['Temperature', 'Precipitation', 'CO2 Levels']\n",
    "\n",
    "# Apply the scaler to the selected columns\n",
    "df[numerical_columns] = scaler.fit_transform(df[numerical_columns])\n",
    "\n",
    "# View the scaled data\n",
    "print(df.head())\n"
   ]
  },
  {
   "cell_type": "code",
   "execution_count": 10,
   "metadata": {},
   "outputs": [],
   "source": [
    "from scipy import stats\n",
    "import numpy as np\n",
    "\n",
    "# Remove rows where Z-score is greater than 3 (or less than -3)\n",
    "df_no_outliers = df[(np.abs(stats.zscore(df[['Temperature', 'Precipitation', 'CO2 Levels']])) < 3).all(axis=1)]\n"
   ]
  },
  {
   "cell_type": "code",
   "execution_count": 12,
   "metadata": {},
   "outputs": [],
   "source": [
    "# Create an interaction feature between Temperature and Precipitation\n",
    "df['Temp_Precip_Interaction'] = df['Temperature'] * df['Precipitation']\n",
    "\n",
    "# Optionally, create polynomial features for non-linear relationships\n",
    "from sklearn.preprocessing import PolynomialFeatures\n",
    "poly = PolynomialFeatures(degree=2)\n",
    "X_poly = poly.fit_transform(df[['Temperature', 'Precipitation']])\n"
   ]
  },
  {
   "cell_type": "code",
   "execution_count": 13,
   "metadata": {},
   "outputs": [
    {
     "name": "stdout",
     "output_type": "stream",
     "text": [
      "   Temperature  Precipitation  CO2 Levels  Crop Yield Crop Disease Incidence  \\\n",
      "0    -1.215649       0.372264   -1.277600         483                    Low   \n",
      "1     0.930126      -0.936280    0.420428         679                   High   \n",
      "2    -0.478038      -0.063917    0.017803         587                    Low   \n",
      "3    -1.081538       1.445941   -0.804953         220                 Medium   \n",
      "4     0.661905      -1.204699   -1.347622         538                 Medium   \n",
      "\n",
      "  Water Availability Food Security Economic Impact  Temp_Precip_Interaction  \\\n",
      "0               High           Low            High                -0.452542   \n",
      "1                Low          High             Low                -0.870859   \n",
      "2             Medium           Low          Medium                 0.030555   \n",
      "3             Medium          High          Medium                -1.563839   \n",
      "4             Medium          High            High                -0.797396   \n",
      "\n",
      "   Extreme Weather Events_Flood  ...  Extreme Weather Events_Storm  \\\n",
      "0                         False  ...                         False   \n",
      "1                         False  ...                         False   \n",
      "2                          True  ...                         False   \n",
      "3                         False  ...                         False   \n",
      "4                         False  ...                          True   \n",
      "\n",
      "   Soil Health_2  Soil Health_3  Soil Health_4  Soil Health_5  Soil Health_6  \\\n",
      "0          False          False          False          False          False   \n",
      "1          False          False          False          False          False   \n",
      "2          False          False          False           True          False   \n",
      "3          False          False          False           True          False   \n",
      "4          False          False          False          False          False   \n",
      "\n",
      "   Soil Health_7  Soil Health_8  Soil Health_9  Soil Health_10  \n",
      "0          False          False          False            True  \n",
      "1          False           True          False           False  \n",
      "2          False          False          False           False  \n",
      "3          False          False          False           False  \n",
      "4          False          False          False           False  \n",
      "\n",
      "[5 rows x 21 columns]\n"
     ]
    }
   ],
   "source": [
    "# One-Hot Encoding for categorical variables\n",
    "df = pd.get_dummies(df, columns=['Extreme Weather Events', 'Soil Health'], drop_first=True)\n",
    "\n",
    "# View the updated DataFrame\n",
    "print(df.head())\n"
   ]
  },
  {
   "cell_type": "code",
   "execution_count": 14,
   "metadata": {},
   "outputs": [],
   "source": [
    "from sklearn.model_selection import train_test_split\n",
    "\n",
    "# Define features and target variable\n",
    "X = df[['Temperature', 'Precipitation', 'CO2 Levels', 'Temp_Precip_Interaction']]\n",
    "y = df['Crop Yield']\n",
    "\n",
    "# Split the data into training and testing sets (70% train, 30% test)\n",
    "X_train, X_test, y_train, y_test = train_test_split(X, y, test_size=0.3, random_state=42)\n"
   ]
  },
  {
   "cell_type": "code",
   "execution_count": 15,
   "metadata": {},
   "outputs": [],
   "source": [
    "# Save the processed DataFrame to a CSV file\n",
    "df.to_csv('processed_data.csv', index=False)"
   ]
  }
 ],
 "metadata": {
  "kernelspec": {
   "display_name": "Python 3",
   "language": "python",
   "name": "python3"
  },
  "language_info": {
   "codemirror_mode": {
    "name": "ipython",
    "version": 3
   },
   "file_extension": ".py",
   "mimetype": "text/x-python",
   "name": "python",
   "nbconvert_exporter": "python",
   "pygments_lexer": "ipython3",
   "version": "3.12.5"
  }
 },
 "nbformat": 4,
 "nbformat_minor": 2
}
