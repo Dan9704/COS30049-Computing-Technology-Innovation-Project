{
 "cells": [
  {
   "cell_type": "markdown",
   "metadata": {},
   "source": [
    "# Data Processing\n",
    "## Assignment 2\n",
    "### Process Data\n",
    "### **Step-by-Step Data Processing**\n",
    "1. **Load the Data**\n",
    "   - Load the dataset into a Pandas DataFrame for easy manipulation."
   ]
  },
  {
   "cell_type": "code",
   "execution_count": 3,
   "metadata": {},
   "outputs": [],
   "source": [
    "import pandas as pd\n",
    "\n",
    "# Load the dataset\n",
    "df = pd.read_csv('climate_change_agriculture_dataset.csv')"
   ]
  },
  {
   "cell_type": "markdown",
   "metadata": {},
   "source": [
    "### Step 2: Remove Duplicate Rows"
   ]
  },
  {
   "cell_type": "code",
   "execution_count": 4,
   "metadata": {},
   "outputs": [
    {
     "name": "stdout",
     "output_type": "stream",
     "text": [
      "Number of duplicate rows: 0\n"
     ]
    }
   ],
   "source": [
    "# Check for duplicates\n",
    "print(f\"Number of duplicate rows: {df.duplicated().sum()}\")\n",
    "\n",
    "# Remove duplicates\n",
    "df = df.drop_duplicates()"
   ]
  },
  {
   "cell_type": "markdown",
   "metadata": {},
   "source": [
    "### Step 3: Handle Missing Values"
   ]
  },
  {
   "cell_type": "code",
   "execution_count": 7,
   "metadata": {},
   "outputs": [],
   "source": [
    "# Check for missing values in the dataset\n",
    "df.isnull().sum()\n",
    "\n",
    "# Option 1: Drop rows with missing values\n",
    "df_clean = df.dropna()\n",
    "\n",
    "# Option 2: Fill missing values with mean (imputation)\n",
    "numeric_cols = df.select_dtypes(include=['number']).columns\n",
    "df[numeric_cols] = df[numeric_cols].fillna(df[numeric_cols].mean())"
   ]
  },
  {
   "cell_type": "markdown",
   "metadata": {},
   "source": [
    "### Step 4: Corect Data Types"
   ]
  },
  {
   "cell_type": "code",
   "execution_count": 11,
   "metadata": {},
   "outputs": [
    {
     "name": "stdout",
     "output_type": "stream",
     "text": [
      "Time                                object\n",
      "Device Name                         object\n",
      "Location                            object\n",
      "Temperature (°C)                   float64\n",
      "Atmospheric Pressure (kPa)         float64\n",
      "Lightning Average Distance (km)    float64\n",
      "Lightning Strike Count             float64\n",
      "Maximum Wind Speed (m/s)           float64\n",
      "Precipitation mm/h                 float64\n",
      "Solar Radiation (W/m2)             float64\n",
      "Vapor Pressure (kPa)               float64\n",
      "Humidity (%)                       float64\n",
      "Wind Direction (°)                 float64\n",
      "Wind Speed (m/s)                   float64\n",
      "dtype: object\n",
      "Time                                object\n",
      "Device Name                         object\n",
      "Location                            object\n",
      "Temperature (°C)                   float64\n",
      "Atmospheric Pressure (kPa)         float64\n",
      "Lightning Average Distance (km)    float64\n",
      "Lightning Strike Count             float64\n",
      "Maximum Wind Speed (m/s)           float64\n",
      "Precipitation mm/h                 float64\n",
      "Solar Radiation (W/m2)             float64\n",
      "Vapor Pressure (kPa)               float64\n",
      "Humidity (%)                       float64\n",
      "Wind Direction (°)                 float64\n",
      "Wind Speed (m/s)                   float64\n",
      "dtype: object\n"
     ]
    }
   ],
   "source": [
    "# Check data types of all columns\n",
    "print(df.dtypes)\n",
    "\n",
    "# Convert the correct columns to their respective data types\n",
    "df['Time'] = pd.to_datetime(df['Time'], errors='coerce')  # Convert to datetime\n",
    "df['Temperature (°C)'] = pd.to_numeric(df['Temperature (°C)'], errors='coerce')  # Convert to numeric\n",
    "\n",
    "# Handle any missing values after conversion\n",
    "df['Time'] = df['Time'].fillna(pd.Timestamp('1970-01-01'))  # Fill missing dates with a default date\n",
    "df['Temperature (°C)'] = df['Temperature (°C)'].fillna(df['Temperature (°C)'].mean())  # Fill missing numeric values\n",
    "\n",
    "# Verify that the conversion was successful\n",
    "print(df.dtypes)\n"
   ]
  },
  {
   "cell_type": "markdown",
   "metadata": {},
   "source": [
    "### Step 6: Handle Outliers"
   ]
  },
  {
   "cell_type": "code",
   "execution_count": 15,
   "metadata": {},
   "outputs": [
    {
     "name": "stdout",
     "output_type": "stream",
     "text": [
      "Collecting scipy\n",
      "  Downloading scipy-1.14.1-cp312-cp312-macosx_14_0_arm64.whl.metadata (60 kB)\n",
      "Requirement already satisfied: numpy<2.3,>=1.23.5 in /Library/Frameworks/Python.framework/Versions/3.12/lib/python3.12/site-packages (from scipy) (2.1.1)\n",
      "Downloading scipy-1.14.1-cp312-cp312-macosx_14_0_arm64.whl (23.1 MB)\n",
      "\u001b[2K   \u001b[90m━━━━━━━━━━━━━━━━━━━━━━━━━━━━━━━━━━━━━━━━\u001b[0m \u001b[32m23.1/23.1 MB\u001b[0m \u001b[31m5.3 MB/s\u001b[0m eta \u001b[36m0:00:00\u001b[0ma \u001b[36m0:00:01\u001b[0m\n",
      "\u001b[?25hInstalling collected packages: scipy\n",
      "Successfully installed scipy-1.14.1\n",
      "Note: you may need to restart the kernel to use updated packages.\n",
      "\n",
      "Final DataFrame after outlier removal:\n",
      "                        Time                       Device Name  \\\n",
      "0  2021-11-19 15:20:09+11:00  DLB ATM41 Charlestown Skate Park   \n",
      "1  2021-11-19 15:10:07+11:00  DLB ATM41 Charlestown Skate Park   \n",
      "2  2021-11-19 15:00:06+11:00  DLB ATM41 Charlestown Skate Park   \n",
      "3  2021-11-19 14:50:09+11:00  DLB ATM41 Charlestown Skate Park   \n",
      "4  2021-11-19 14:40:05+11:00  DLB ATM41 Charlestown Skate Park   \n",
      "\n",
      "               Location  Temperature (°C)  Atmospheric Pressure (kPa)  \\\n",
      "0  -32.96599, 151.69513              24.4                      100.05   \n",
      "1  -32.96599, 151.69513              24.5                      100.05   \n",
      "2  -32.96599, 151.69513              24.7                      100.07   \n",
      "3  -32.96599, 151.69513              24.7                      100.08   \n",
      "4  -32.96599, 151.69513              24.6                      100.08   \n",
      "\n",
      "   Lightning Average Distance (km)  Lightning Strike Count  \\\n",
      "0                              0.0                     0.0   \n",
      "1                              0.0                     0.0   \n",
      "2                              0.0                     0.0   \n",
      "3                              0.0                     0.0   \n",
      "4                              0.0                     0.0   \n",
      "\n",
      "   Maximum Wind Speed (m/s)  Precipitation mm/h  Solar Radiation (W/m2)  \\\n",
      "0                      3.74                 0.0                    91.0   \n",
      "1                      4.92                 0.0                    88.0   \n",
      "2                      3.94                 0.0                   109.0   \n",
      "3                      3.33                 0.0                   146.0   \n",
      "4                      4.64                 0.0                   264.0   \n",
      "\n",
      "   Vapor Pressure (kPa)  Humidity (%)  Wind Direction (°)  Wind Speed (m/s)  \n",
      "0                  1.92          62.6               312.8              1.75  \n",
      "1                  1.92          62.3               326.5              2.11  \n",
      "2                  1.92          61.8               317.9              1.93  \n",
      "3                  1.93          62.1               318.5              1.69  \n",
      "4                  1.93          62.6               314.5              2.24  \n"
     ]
    }
   ],
   "source": [
    "%pip install scipy\n",
    "from scipy.stats import zscore # type: ignore\n",
    "\n",
    "# Calculate Z-scores for the numeric column (adjust the column name accordingly)\n",
    "df['z_score'] = zscore(df['Temperature (°C)'])  # Replace 'Temperature (°C)' with the actual column name\n",
    "\n",
    "# Filter out rows with Z-score greater than the threshold (e.g., 3)\n",
    "df = df[df['z_score'].abs() < 3]\n",
    "\n",
    "# Drop the z_score column after filtering\n",
    "df = df.drop(columns=['z_score'])\n",
    "\n",
    "# Display the cleaned DataFrame\n",
    "print(\"\\nFinal DataFrame after outlier removal:\")\n",
    "print(df.head())"
   ]
  },
  {
   "cell_type": "markdown",
   "metadata": {},
   "source": [
    "### Step: Remove Unrelevant Data"
   ]
  },
  {
   "cell_type": "code",
   "execution_count": 18,
   "metadata": {},
   "outputs": [],
   "source": [
    "if 'unnecessary_column' in df.columns:\n",
    "    df = df.drop(columns=['unnecessary_column'])\n"
   ]
  },
  {
   "cell_type": "markdown",
   "metadata": {},
   "source": [
    "### Step: Save Clean Data"
   ]
  },
  {
   "cell_type": "code",
   "execution_count": 19,
   "metadata": {},
   "outputs": [],
   "source": [
    "# Save cleaned data to a new CSV\n",
    "df.to_csv('cleaned_data.csv', index=False)\n"
   ]
  }
 ],
 "metadata": {
  "kernelspec": {
   "display_name": "Python 3",
   "language": "python",
   "name": "python3"
  },
  "language_info": {
   "codemirror_mode": {
    "name": "ipython",
    "version": 3
   },
   "file_extension": ".py",
   "mimetype": "text/x-python",
   "name": "python",
   "nbconvert_exporter": "python",
   "pygments_lexer": "ipython3",
   "version": "3.12.5"
  }
 },
 "nbformat": 4,
 "nbformat_minor": 2
}
