{
 "cells": [
  {
   "cell_type": "markdown",
   "metadata": {},
   "source": []
  },
  {
   "cell_type": "code",
   "execution_count": 9,
   "metadata": {},
   "outputs": [],
   "source": [
    "# Define features (X) and target (y)\n",
    "X = df[['wind_spd_kmh', 'rel-humidity', 'msl_pres', 'gust_kmh']]  # Selected features\n",
    "y = df['air_temperature']  # Target variable\n"
   ]
  },
  {
   "cell_type": "code",
   "execution_count": 11,
   "metadata": {},
   "outputs": [],
   "source": [
    "from sklearn.model_selection import train_test_split\n",
    "\n",
    "# Split the data: 70% training, 30% testing\n",
    "X_train, X_test, y_train, y_test = train_test_split(X, y, test_size=0.3, random_state=42)\n"
   ]
  },
  {
   "cell_type": "code",
   "execution_count": 12,
   "metadata": {},
   "outputs": [
    {
     "data": {
      "text/html": [
       "<div>\n",
       "<style scoped>\n",
       "    .dataframe tbody tr th:only-of-type {\n",
       "        vertical-align: middle;\n",
       "    }\n",
       "\n",
       "    .dataframe tbody tr th {\n",
       "        vertical-align: top;\n",
       "    }\n",
       "\n",
       "    .dataframe thead th {\n",
       "        text-align: right;\n",
       "    }\n",
       "</style>\n",
       "<table border=\"1\" class=\"dataframe\">\n",
       "  <thead>\n",
       "    <tr style=\"text-align: right;\">\n",
       "      <th></th>\n",
       "      <th>wind_spd_kmh</th>\n",
       "      <th>rel-humidity</th>\n",
       "      <th>msl_pres</th>\n",
       "      <th>gust_kmh</th>\n",
       "    </tr>\n",
       "  </thead>\n",
       "  <tbody>\n",
       "    <tr>\n",
       "      <th>0</th>\n",
       "      <td>-0.711288</td>\n",
       "      <td>0.270464</td>\n",
       "      <td>-0.765179</td>\n",
       "      <td>-0.638582</td>\n",
       "    </tr>\n",
       "    <tr>\n",
       "      <th>1</th>\n",
       "      <td>-0.072692</td>\n",
       "      <td>-0.226257</td>\n",
       "      <td>NaN</td>\n",
       "      <td>-0.295166</td>\n",
       "    </tr>\n",
       "    <tr>\n",
       "      <th>2</th>\n",
       "      <td>-0.072692</td>\n",
       "      <td>-1.468059</td>\n",
       "      <td>NaN</td>\n",
       "      <td>0.048251</td>\n",
       "    </tr>\n",
       "    <tr>\n",
       "      <th>3</th>\n",
       "      <td>-0.328131</td>\n",
       "      <td>0.953455</td>\n",
       "      <td>NaN</td>\n",
       "      <td>-0.466874</td>\n",
       "    </tr>\n",
       "    <tr>\n",
       "      <th>4</th>\n",
       "      <td>3.758880</td>\n",
       "      <td>-2.275230</td>\n",
       "      <td>-1.218775</td>\n",
       "      <td>4.941940</td>\n",
       "    </tr>\n",
       "  </tbody>\n",
       "</table>\n",
       "</div>"
      ],
      "text/plain": [
       "   wind_spd_kmh  rel-humidity  msl_pres  gust_kmh\n",
       "0     -0.711288      0.270464 -0.765179 -0.638582\n",
       "1     -0.072692     -0.226257       NaN -0.295166\n",
       "2     -0.072692     -1.468059       NaN  0.048251\n",
       "3     -0.328131      0.953455       NaN -0.466874\n",
       "4      3.758880     -2.275230 -1.218775  4.941940"
      ]
     },
     "execution_count": 12,
     "metadata": {},
     "output_type": "execute_result"
    }
   ],
   "source": [
    "from sklearn.preprocessing import StandardScaler\n",
    "\n",
    "# Initialize the scaler\n",
    "scaler = StandardScaler()\n",
    "\n",
    "# Fit and transform the training data, and only transform the testing data\n",
    "X_train_scaled = scaler.fit_transform(X_train)\n",
    "X_test_scaled = scaler.transform(X_test)\n",
    "\n",
    "# Display the first few rows of the scaled training data\n",
    "pd.DataFrame(X_train_scaled, columns=X.columns).head()\n"
   ]
  },
  {
   "cell_type": "code",
   "execution_count": 17,
   "metadata": {},
   "outputs": [],
   "source": [
    "import pandas as pd\n",
    "from sklearn.model_selection import train_test_split\n",
    "from sklearn.preprocessing import StandardScaler\n",
    "\n",
    "# Load the dataset\n",
    "df = pd.read_csv('ceberus_combined_output.csv')\n",
    "\n",
    "# Define features (X) and target (y)\n",
    "X = df[['wind_spd_kmh', 'rel-humidity', 'msl_pres', 'gust_kmh']]  # Selected features\n",
    "y = df['air_temperature']  # Target variable\n",
    "\n",
    "# Drop rows with NaN values from both features and target\n",
    "X_clean = X.dropna()  # Drop rows with missing values from features\n",
    "y_clean = y[X_clean.index]  # Ensure target variable matches the cleaned data\n",
    "\n",
    "# Split the cleaned data into training and testing sets\n",
    "X_train, X_test, y_train, y_test = train_test_split(X_clean, y_clean, test_size=0.3, random_state=42)\n",
    "\n",
    "# Standardize (scale) the feature data\n",
    "scaler = StandardScaler()\n",
    "X_train_scaled = scaler.fit_transform(X_train)\n",
    "X_test_scaled = scaler.transform(X_test)\n",
    "\n",
    "# Now you can proceed with model training\n"
   ]
  },
  {
   "cell_type": "code",
   "execution_count": 19,
   "metadata": {},
   "outputs": [
    {
     "name": "stdout",
     "output_type": "stream",
     "text": [
      "Mean Squared Error: 14.614136317761847\n"
     ]
    }
   ],
   "source": [
    "from sklearn.linear_model import LinearRegression\n",
    "from sklearn.metrics import mean_squared_error\n",
    "\n",
    "# Initialize the model\n",
    "reg_model = LinearRegression()\n",
    "\n",
    "# Train the model on the scaled training data\n",
    "reg_model.fit(X_train_scaled, y_train)\n",
    "\n",
    "# Predict on the test set\n",
    "y_pred = reg_model.predict(X_test_scaled)\n",
    "\n",
    "# Evaluate the model using Mean Squared Error\n",
    "mse = mean_squared_error(y_test, y_pred)\n",
    "print(f'Mean Squared Error: {mse}')\n"
   ]
  },
  {
   "cell_type": "code",
   "execution_count": 23,
   "metadata": {},
   "outputs": [
    {
     "name": "stdout",
     "output_type": "stream",
     "text": [
      "Silhouette Score: 0.28594088936815537\n"
     ]
    }
   ],
   "source": [
    "from sklearn.metrics import silhouette_score\n",
    "\n",
    "# After fitting K-Means model\n",
    "silhouette = silhouette_score(X_test_scaled, cluster_labels)\n",
    "print(f\"Silhouette Score: {silhouette}\")\n"
   ]
  }
 ],
 "metadata": {
  "kernelspec": {
   "display_name": "Python 3",
   "language": "python",
   "name": "python3"
  },
  "language_info": {
   "codemirror_mode": {
    "name": "ipython",
    "version": 3
   },
   "file_extension": ".py",
   "mimetype": "text/x-python",
   "name": "python",
   "nbconvert_exporter": "python",
   "pygments_lexer": "ipython3",
   "version": "3.12.5"
  }
 },
 "nbformat": 4,
 "nbformat_minor": 2
}
