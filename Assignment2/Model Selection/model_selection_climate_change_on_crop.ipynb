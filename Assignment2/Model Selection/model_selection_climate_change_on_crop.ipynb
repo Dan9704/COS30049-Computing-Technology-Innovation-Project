{
 "cells": [
  {
   "cell_type": "markdown",
   "metadata": {},
   "source": [
    "# III. Model Selection\n",
    "## Assignment 2\n",
    "### Model Selection on Climate Change on Crop\n",
    "\n",
    "### **Step 1: Define the Problem**\n",
    "We create frame different types of machine learning tasks:\n",
    "- **Regression**: Predicting a continuous variable like **Crop Yield** based on **Temperature**, **Precipitation**, etc.\n",
    "- **Classification**: Classifying the type of **Extreme Weather Event** or **Soil Health** levels based on weather conditions.\n",
    "- **Clustering**: Grouping similar data points based on conditions like **Temperature**, **CO2 Levels**, and **Precipitation**."
   ]
  }
 ],
 "metadata": {
  "kernelspec": {
   "display_name": "Python 3",
   "language": "python",
   "name": "python3"
  },
  "language_info": {
   "codemirror_mode": {
    "name": "ipython",
    "version": 3
   },
   "file_extension": ".py",
   "mimetype": "text/x-python",
   "name": "python",
   "nbconvert_exporter": "python",
   "pygments_lexer": "ipython3",
   "version": "3.12.5"
  }
 },
 "nbformat": 4,
 "nbformat_minor": 2
}
